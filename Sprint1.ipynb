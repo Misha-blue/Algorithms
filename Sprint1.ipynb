{
 "cells": [
  {
   "cell_type": "markdown",
   "metadata": {},
   "source": [
    "# Задача 1"
   ]
  },
  {
   "cell_type": "markdown",
   "metadata": {},
   "source": [
    "y = ax2 + bx + c. y - ?"
   ]
  },
  {
   "cell_type": "code",
   "execution_count": 9,
   "metadata": {},
   "outputs": [
    {
     "name": "stdout",
     "output_type": "stream",
     "text": [
      "40\n"
     ]
    }
   ],
   "source": [
    "import sys\n",
    "from io import StringIO \n",
    "doc = '''8 2 9 -10'''\n",
    "\n",
    "sys.stdin = StringIO(doc)\n",
    "\n",
    "def main():\n",
    "    line = sys.stdin.readline().strip()\n",
    "    a, x, b, c = line.split()\n",
    "    a = int(a)\n",
    "    x = int(x)\n",
    "    b = int(b)\n",
    "    c = int(c)\n",
    "    y = a * x * x + b * x + c\n",
    "    print(y)\n",
    "main()"
   ]
  },
  {
   "cell_type": "markdown",
   "metadata": {},
   "source": [
    "# Задача 2"
   ]
  },
  {
   "cell_type": "markdown",
   "metadata": {},
   "source": [
    "Владелец казино хочет поставить себе новый игровой автомат: когда дёргаешь за ручку, в автомате генерируются три случайных числа. Если все три числа одной чётности, то игрок выигрывает. Напишите программу, которая по трём числам определяет, выиграл игрок или нет.\n",
    "\n",
    "Формат ввода\n",
    "В первой строке записаны три целых числа a, b и c, выданных автоматом. Числа не превосходят 109 по модулю.\n",
    "\n",
    "Формат вывода\n",
    "Выведите «WIN», если игрок выиграл, и «FAIL» в противном случае."
   ]
  },
  {
   "cell_type": "code",
   "execution_count": 21,
   "metadata": {},
   "outputs": [
    {
     "name": "stdout",
     "output_type": "stream",
     "text": [
      "FAIL\n"
     ]
    }
   ],
   "source": [
    "import sys\n",
    "\n",
    "from io import StringIO \n",
    "doc = '''0 -1 0'''\n",
    "\n",
    "sys.stdin = StringIO(doc)\n",
    "\n",
    "def main():\n",
    "    reminds = 0\n",
    "    line = sys.stdin.readline().strip()\n",
    "    a, b, c = line.split()\n",
    "    a = int(a)\n",
    "    b = int(b)\n",
    "    c = int(c)\n",
    "    if (a % 2 == 1):\n",
    "        reminds += 1\n",
    "    if (b % 2 == 1):\n",
    "        reminds += 1\n",
    "    if (c % 2 == 1):\n",
    "        reminds += 1\n",
    "    if (reminds == 0 or reminds == 3):\n",
    "        print(\"WIN\")\n",
    "    else:\n",
    "        print(\"FAIL\")\n",
    "main()"
   ]
  },
  {
   "cell_type": "markdown",
   "metadata": {},
   "source": [
    "# Задача 3"
   ]
  },
  {
   "cell_type": "markdown",
   "metadata": {},
   "source": [
    "В первой строке задано n - количество строк матрицы. Во второй - m - количество столбцов. Числа m и n не превосходят 1000. В следующих n строках задана матрица. Элементы матрицы - целые числа, по модулю не превосходящие 1000. В последних двух строках записаны координаты элемента (индексация начинается с нуля), соседей которого нужно найти."
   ]
  },
  {
   "cell_type": "code",
   "execution_count": 9,
   "metadata": {},
   "outputs": [
    {
     "name": "stdout",
     "output_type": "stream",
     "text": [
      "4\n",
      "3\n",
      "2\n",
      "1\n",
      "1 2 7 7\n"
     ]
    }
   ],
   "source": [
    "import sys\n",
    "\n",
    "from io import StringIO \n",
    "doc = '''1 2 3\n",
    "0 2 6\n",
    "7 4 1\n",
    "2 7 0'''\n",
    "\n",
    "sys.stdin = StringIO(doc)\n",
    "\n",
    "def main():\n",
    "    matrix_input = []\n",
    "    neighbours = []\n",
    "    rows = int(input())\n",
    "    colums = int(input())\n",
    "    for i in range(rows):\n",
    "        line = sys.stdin.readline().strip()\n",
    "        row = list(map(int, line.split()))\n",
    "        matrix_input.append(row)\n",
    "    n = int(input())\n",
    "    m = int(input()) \n",
    "    if (n - 1 >= 0):\n",
    "        neighbours.append(matrix_input[n - 1][m])\n",
    "    if (n + 1 < rows):\n",
    "        neighbours.append(matrix_input[n + 1][m])\n",
    "    if (m - 1 >= 0):\n",
    "        neighbours.append(matrix_input[n][m - 1])\n",
    "    if (m + 1 < colums):\n",
    "        neighbours.append(matrix_input[n][m + 1])\n",
    "    neighbours.sort()\n",
    "    print(\" \".join(map(str,neighbours)))\n",
    "main()"
   ]
  },
  {
   "cell_type": "markdown",
   "metadata": {},
   "source": [
    "# Задача 4"
   ]
  },
  {
   "cell_type": "markdown",
   "metadata": {},
   "source": [
    "Метеорологическая служба вашего города решила измерять нестабильность погоды новым способом. Назовём хаотичностью погоды за n дней число дней, в которые температура строго больше, чем в день до (если такой существует) и в день после текущего (если такой существует). Например, если за 5 дней температура воздуха составляла 1 2 5 4 8 градусов, то хаотичность за этот период равна 2: в 3-й и 5-й дни выполнялись описанные условия. Определите по ежедневным показаниям температуры хаотичность погоды за этот период.\n",
    "\n",
    "Формат ввода\n",
    "В первой строке дано число n — длина периода измерений в днях, 1 ≤ n ≤ 105. Во второй строке даны n целых чисел — значения температуры в каждый из n дней. Значения температуры не превосходят 273 по модулю.\n",
    "\n",
    "Формат вывода\n",
    "Выведите единственное число — хаотичность за данный период."
   ]
  },
  {
   "cell_type": "code",
   "execution_count": 37,
   "metadata": {},
   "outputs": [
    {
     "name": "stdout",
     "output_type": "stream",
     "text": [
      "18\n",
      "0\n"
     ]
    }
   ],
   "source": [
    "import sys\n",
    "\n",
    "\n",
    "from io import StringIO \n",
    "doc = '''1 1 1 1 1 1 2 2 2 2 2 2 3 3 3 3 3 3 '''\n",
    "\n",
    "sys.stdin = StringIO(doc)\n",
    "\n",
    "def main():\n",
    "    n = int(input())\n",
    "    line = sys.stdin.readline().strip()\n",
    "    measures = list(map(int, line.split()))\n",
    "    measures.append(-273)\n",
    "    uncertanty = [0] * (n + 1)\n",
    "    summary = 0\n",
    "    i = 0\n",
    "    for i in range(n):\n",
    "        if measures[i] < measures[i + 1]:\n",
    "            uncertanty[i] += 1\n",
    "        elif measures[i] == measures[i + 1]:\n",
    "            uncertanty[i] += 1\n",
    "            uncertanty[i + 1] += 1\n",
    "        else:\n",
    "            uncertanty[i + 1] += 1\n",
    "            if uncertanty[i] == 0:\n",
    "                summary += 1\n",
    "    print(summary)\n",
    "    \n",
    "main()"
   ]
  },
  {
   "cell_type": "markdown",
   "metadata": {},
   "source": [
    "# Задача 5"
   ]
  },
  {
   "cell_type": "markdown",
   "metadata": {},
   "source": [
    "В первой строке дана длина строки L (L ≤ 105).\n",
    "\n",
    "Во второй строке записана сама строка, состоящая из маленьких латинских букв и пробелов. Слово —- последовательность букв, не разделённых пробелами. Пробелы могут стоять в самом начале строки и в самом её конце."
   ]
  },
  {
   "cell_type": "code",
   "execution_count": 46,
   "metadata": {},
   "outputs": [
    {
     "name": "stdout",
     "output_type": "stream",
     "text": [
      "6\n",
      "mymbg\n",
      "5\n"
     ]
    }
   ],
   "source": [
    "import sys\n",
    "\n",
    "\n",
    "from io import StringIO \n",
    "doc = ''' mymbg'''\n",
    "\n",
    "sys.stdin = StringIO(doc)\n",
    "\n",
    "def main():\n",
    "    n = int(input())\n",
    "    line = sys.stdin.readline()\n",
    "    longest = \"\"\n",
    "    temp = \"\"\n",
    "    for char in line:\n",
    "        if char == \" \":\n",
    "            if len(temp) > len(longest):\n",
    "                longest = temp\n",
    "            temp = \"\"\n",
    "        else:\n",
    "            temp += char\n",
    "    if len(temp) > len(longest):\n",
    "        longest = temp\n",
    "    print(longest)\n",
    "    print(len(longest))\n",
    "main()"
   ]
  },
  {
   "cell_type": "markdown",
   "metadata": {},
   "source": [
    "# Задача 6"
   ]
  },
  {
   "cell_type": "markdown",
   "metadata": {},
   "source": [
    "А теперь помогите Васе понять, будет ли фраза палиндромом‎. Учитываются только буквы и цифры, заглавные и строчные буквы считаются одинаковыми.\n",
    "\n",
    "Решение должно работать за O(N), где N - длина строки на входе."
   ]
  },
  {
   "cell_type": "code",
   "execution_count": 63,
   "metadata": {},
   "outputs": [
    {
     "name": "stdout",
     "output_type": "stream",
     "text": [
      "True\n"
     ]
    }
   ],
   "source": [
    "import sys\n",
    "\n",
    "\n",
    "from io import StringIO \n",
    "doc = '''1'''\n",
    "\n",
    "sys.stdin = StringIO(doc)\n",
    "\n",
    "def main():\n",
    "    line = sys.stdin.readline().strip()\n",
    "    clear_line = \"\"\n",
    "    for char in line:\n",
    "        if (char.isdigit() or char.isalpha()):\n",
    "            clear_line += char.lower()\n",
    "    n = len(clear_line)\n",
    "    output = \"True\"\n",
    "    for i in range(n//2):\n",
    "        if clear_line[i] != clear_line[n - i - 1]:\n",
    "            output = \"False\"\n",
    "            break\n",
    "    if n == 0:\n",
    "        output = \"False\"\n",
    "    print(output)\n",
    "    \n",
    "main()"
   ]
  },
  {
   "cell_type": "markdown",
   "metadata": {},
   "source": [
    "# Задача 7"
   ]
  },
  {
   "cell_type": "markdown",
   "metadata": {},
   "source": [
    "Перевести число из десятичного в двоичное"
   ]
  },
  {
   "cell_type": "code",
   "execution_count": 84,
   "metadata": {},
   "outputs": [
    {
     "name": "stdout",
     "output_type": "stream",
     "text": [
      "2\n",
      "10\n"
     ]
    }
   ],
   "source": [
    "import sys\n",
    "\n",
    "\n",
    "def main():\n",
    "    n = int(input())\n",
    "    divider = n\n",
    "    output = \"\"\n",
    "    while (divider > 1):\n",
    "        reminder = divider % 2\n",
    "        divider //= 2\n",
    "        output = str(reminder) + output\n",
    "    if divider == 1:\n",
    "        output = str(divider) + output\n",
    "    if output == \"\":\n",
    "        output = \"0\"\n",
    "    print(output)\n",
    "    \n",
    "main()"
   ]
  },
  {
   "cell_type": "markdown",
   "metadata": {},
   "source": [
    "# Задача 8"
   ]
  },
  {
   "cell_type": "markdown",
   "metadata": {},
   "source": [
    "Сложить два числа в двоичном представлении"
   ]
  },
  {
   "cell_type": "code",
   "execution_count": 13,
   "metadata": {},
   "outputs": [
    {
     "name": "stdout",
     "output_type": "stream",
     "text": [
      "1111100000\n",
      "11110\n",
      "1111111110\n"
     ]
    }
   ],
   "source": [
    "import sys\n",
    "\n",
    "\n",
    "def main():\n",
    "    n = str(input())\n",
    "    m = str(input())\n",
    "    if len(m) == len(n):\n",
    "        m = \"0\" + m\n",
    "        n = \"0\" + n\n",
    "    elif len(m) > len(n):\n",
    "        n = \"0\" + \"0\" * (len(m) - len(n)) + n\n",
    "        m = \"0\" + m\n",
    "    else:\n",
    "        m = \"0\" + \"0\" * (len(n) - len(m)) + m\n",
    "        n = \"0\" + n\n",
    "    length = len(n)\n",
    "    answer = \"\"\n",
    "    saver = 0\n",
    "    for i in range(1, length + 1):\n",
    "        s = int(n[-i]) + int(m[-i]) + saver\n",
    "        r = s % 2\n",
    "        saver = s // 2\n",
    "        answer = str(r) + answer\n",
    "    if answer[0] == \"0\":\n",
    "        answer = answer[1::]\n",
    "    print(answer)\n",
    "main()"
   ]
  },
  {
   "cell_type": "markdown",
   "metadata": {},
   "source": [
    "# задача 8"
   ]
  },
  {
   "cell_type": "markdown",
   "metadata": {},
   "source": [
    "Является ли число степенью 4? (до 10000)"
   ]
  },
  {
   "cell_type": "code",
   "execution_count": 1,
   "metadata": {},
   "outputs": [
    {
     "name": "stdout",
     "output_type": "stream",
     "text": [
      "45\n",
      "False\n"
     ]
    }
   ],
   "source": [
    "import sys\n",
    "\n",
    "def main():\n",
    "    n = int(input())\n",
    "    four_power = 1\n",
    "    answer = \"False\"\n",
    "    while four_power <= n:\n",
    "        if four_power == n:\n",
    "            answer = \"True\"\n",
    "            break\n",
    "        four_power *= 4\n",
    "    print(answer)\n",
    "main()"
   ]
  },
  {
   "cell_type": "markdown",
   "metadata": {},
   "source": [
    "# Задача 9"
   ]
  },
  {
   "cell_type": "code",
   "execution_count": 18,
   "metadata": {},
   "outputs": [
    {
     "name": "stdout",
     "output_type": "stream",
     "text": [
      "917521579\n",
      "13 70578583\n"
     ]
    }
   ],
   "source": [
    "import sys\n",
    "\n",
    "def main():\n",
    "    n = int(input())              \n",
    "    divider = 2\n",
    "    while divider * divider <= n:         \n",
    "        if n % divider == 0:\n",
    "            print(divider, end=\" \")\n",
    "            n /= divider      \n",
    "        else:           \n",
    "            divider += 1  \n",
    "    if (n != 1):\n",
    "        print(int(n))\n",
    "main()"
   ]
  },
  {
   "cell_type": "markdown",
   "metadata": {},
   "source": [
    "# Задача A."
   ]
  },
  {
   "cell_type": "markdown",
   "metadata": {},
   "source": [
    "Улица, на которой хочет жить Тимофей, имеет длину n, то есть состоит из n одинаковых идущих подряд участков. На каждом участке либо уже построен дом, либо участок пустой. Тимофей ищет место для строительства своего дома. Тимофей очень общителен и не хочет жить далеко от знакомых, которых у него вся улица. Чтобы оптимально выбрать место для строительства, он хочет для каждого участка знать расстояние до ближайшего пустого участка. (Для пустого участка эта величина будет равна нулю — расстояние до самого себя.)\n",
    "\n",
    "Ваша задача — помочь Тимофею посчитать искомые расстояния. Для этого у вас есть карта улицы. Дома в городе Тимофея нумеровались в том порядке, в котором строились, поэтому их номера на карте никак не упорядочены. Пустые участки обозначены нулями.\n",
    "\n",
    "В первой строке дана длина улицы — n (1 ≤ n ≤ 106). В следующей строке записаны n целых неотрицательных чисел — номера домов и обозначения пустых участков на карте (нули). Гарантируется, что в последовательности есть хотя бы один ноль. Номера домов (положительные числа) уникальны и не превосходят 109\n",
    "\n",
    "Для каждого из участков выведите расстояние до ближайшего нуля. Числа выводите в одну строку, разделяя их пробелами."
   ]
  },
  {
   "cell_type": "code",
   "execution_count": 16,
   "metadata": {},
   "outputs": [
    {
     "name": "stdout",
     "output_type": "stream",
     "text": [
      "5\n",
      "0 1 2 1 0\n"
     ]
    }
   ],
   "source": [
    "import sys\n",
    "\n",
    "from io import StringIO \n",
    "doc = '''0 1 4 9 0'''\n",
    "\n",
    "sys.stdin = StringIO(doc)\n",
    "\n",
    "def main():\n",
    "    street_length = int(input())\n",
    "    yards = sys.stdin.readline().strip().split()\n",
    "    forward_empty_yard_distance = []\n",
    "    backward_empty_yard_distance = []\n",
    "    output_distances = []\n",
    "    \n",
    "    temp_empty_yard_distance = 1000001\n",
    "    for i in range(street_length):\n",
    "        if yards[i] == \"0\":\n",
    "            temp_empty_yard_distance = 0\n",
    "        else:\n",
    "            temp_empty_yard_distance += 1\n",
    "        forward_empty_yard_distance.append(temp_empty_yard_distance)\n",
    "        \n",
    "    temp_empty_yard_distance = 1000001\n",
    "    for i in range(street_length - 1, -1, -1):\n",
    "        if yards[i] == \"0\":\n",
    "            temp_empty_yard_distance = 0\n",
    "        else:\n",
    "            temp_empty_yard_distance += 1\n",
    "        backward_empty_yard_distance.append(temp_empty_yard_distance)\n",
    "    \n",
    "    for i in range(street_length):\n",
    "        lowest_empty_yard_distanse = min(forward_empty_yard_distance[i], backward_empty_yard_distance[street_length - i - 1])\n",
    "        output_distances.append(str(lowest_empty_yard_distanse))\n",
    "        \n",
    "    print(\" \".join(output_distances))\n",
    "    \n",
    "main()"
   ]
  },
  {
   "cell_type": "markdown",
   "metadata": {},
   "source": [
    "# Задача B"
   ]
  },
  {
   "cell_type": "markdown",
   "metadata": {},
   "source": [
    "Гоша и Кондратий нашли необычный тренажёр для скоростной печати и хотят освоить его. Тренажёр представляет собой поле из клавиш 4x4, в котором каждый раунд появляется конфигурация цифр и точек. На каждой клавише написана либо точка, либо цифра от 1 до 9.\n",
    "В момент времени t игрок должен одновременно нажать на все клавиши, на которых написана цифра t. Гоша и Кондратий могут нажать в один момент времени на k клавиш каждый. Если в момент времени t были нажаты все нужные клавиши, то игроки получают 1 балл.\n",
    "Найдите число баллов, которое смогут заработать Гоша и Кондратий, если будут нажимать на клавиши вдвоём.\n",
    "\n",
    "Формат ввода\n",
    "В первой строке дано целое число k, 1 ≤ k ≤ 5.\n",
    "В четырёх следующих строках задан вид тренажёра — по 4 символа в каждой строке. Каждый символ — либо точка, либо цифра от 1 до 9.\n",
    "Символы одной строки идут подряд и не разделены пробелами.\n",
    "\n",
    "Формат вывода\n",
    "Выведите единственное число — максимальное количество баллов, которое смогут набрать Гоша и Кондратий."
   ]
  },
  {
   "cell_type": "code",
   "execution_count": 7,
   "metadata": {},
   "outputs": [
    {
     "name": "stdout",
     "output_type": "stream",
     "text": [
      "3\n",
      "7\n"
     ]
    }
   ],
   "source": [
    "import sys\n",
    "\n",
    "from io import StringIO \n",
    "doc = '''4567\n",
    "2223\n",
    "2211\n",
    "1111'''\n",
    "\n",
    "sys.stdin = StringIO(doc)\n",
    "\n",
    "def main():\n",
    "    \n",
    "    keys_press_simutaniously = int(input())\n",
    "    keys_distribution = [0] * 9\n",
    "    output_score = 0\n",
    "    \n",
    "    for i in range(4):\n",
    "        keyboard = list(sys.stdin.readline().strip())\n",
    "        for key in keyboard:\n",
    "            if key != \".\":\n",
    "                keys_distribution[int(key) - 1] += 1\n",
    "                \n",
    "    for key_abundance in keys_distribution:\n",
    "        if key_abundance != 0 and keys_press_simutaniously * 2 >= key_abundance:\n",
    "            output_score += 1\n",
    "    print(output_score)\n",
    "    \n",
    "main()"
   ]
  },
  {
   "cell_type": "markdown",
   "metadata": {},
   "source": [
    "Задача 1\n",
    "Given an array nums of n integers, are there elements a, b, c in nums such that a + b + c = 0? Find all unique triplets in the array which gives the sum of zero."
   ]
  },
  {
   "cell_type": "code",
   "execution_count": 83,
   "metadata": {},
   "outputs": [
    {
     "name": "stdout",
     "output_type": "stream",
     "text": [
      "[[-2, 0, 2], [-2, 1, 1]]\n"
     ]
    }
   ],
   "source": [
    "import sys\n",
    "from typing import List\n",
    "import collections\n",
    "\n",
    "def threeSum(nums: List[int]) -> List[List[int]]:\n",
    "    output = []\n",
    "    nums.sort()\n",
    "    numsCollection = { num : 1 for num in nums }\n",
    "    numLength = len(nums)\n",
    "    for i in range(numLength - 2):\n",
    "        for j in range (i + 1, numLength - 1):\n",
    "            if (0 - (nums[i] + nums[j]) in numsCollection.keys()):\n",
    "                temp = sorted([nums[i], nums[j], 0 - (nums[i] + nums[j])])\n",
    "                output.append(temp)\n",
    "    return [list(x) for x in set(tuple(x) for x in output)]\n",
    "\n",
    "    \n",
    "print(threeSum([-2,0,1,1,2]))"
   ]
  },
  {
   "cell_type": "markdown",
   "metadata": {},
   "source": [
    "# Задача1"
   ]
  },
  {
   "cell_type": "code",
   "execution_count": 3,
   "metadata": {},
   "outputs": [
    {
     "name": "stdout",
     "output_type": "stream",
     "text": [
      "0\n",
      "1 7\n"
     ]
    }
   ],
   "source": [
    "import sys\n",
    "\n",
    "\n",
    "from io import StringIO \n",
    "doc = '''\n",
    "17'''\n",
    "\n",
    "sys.stdin = StringIO(doc)\n",
    "\n",
    "def main():\n",
    "    n = int(input())\n",
    "    x_arr = sys.stdin.readline().strip().split(\" \")\n",
    "    k = int(sys.stdin.readline().strip())\n",
    "    x = 0\n",
    "    for i in range(n):\n",
    "        x = x + int(x_arr[i]) * 10 ** (n-i-1)\n",
    "    xk = x + k\n",
    "    xk_arr = list(str(xk))\n",
    "    print(\" \".join(map(str, xk_arr)))\n",
    "main()"
   ]
  },
  {
   "cell_type": "markdown",
   "metadata": {},
   "source": [
    "# Задача 2"
   ]
  },
  {
   "cell_type": "code",
   "execution_count": 41,
   "metadata": {},
   "outputs": [
    {
     "name": "stdout",
     "output_type": "stream",
     "text": [
      "a b c\n"
     ]
    }
   ],
   "source": [
    "import sys\n",
    "\n",
    "\n",
    "from io import StringIO \n",
    "doc = '''2'''\n",
    "\n",
    "sys.stdin = StringIO(doc)\n",
    "\n",
    "def main():\n",
    "    alphabet = {\"2\":\"abc\", \"3\":\"def\", \"4\":\"ghi\", \"5\":\"jkl\", \"6\":\"mno\", \"7\":\"pqrs\", \"8\":\"tuv\", \"9\":\"wxyz\"}\n",
    "    line = sys.stdin.readline().strip()\n",
    "    output = list(alphabet[line[0]])\n",
    "    for i in range(1, len(line)):\n",
    "        temp = output.copy()\n",
    "        output = []\n",
    "        new = list(alphabet[line[i]])\n",
    "        for t in temp:\n",
    "            for n in new:\n",
    "                output.append(t+n)\n",
    "    print(\" \".join(output))\n",
    "main()"
   ]
  },
  {
   "cell_type": "markdown",
   "metadata": {},
   "source": [
    "# Задача 3"
   ]
  },
  {
   "cell_type": "code",
   "execution_count": 43,
   "metadata": {},
   "outputs": [
    {
     "name": "stdout",
     "output_type": "stream",
     "text": [
      "x\n"
     ]
    }
   ],
   "source": [
    "import sys\n",
    "import collections\n",
    "\n",
    "from io import StringIO \n",
    "doc = '''\n",
    "x'''\n",
    "\n",
    "sys.stdin = StringIO(doc)\n",
    "\n",
    "def main():\n",
    "    s = sys.stdin.readline().strip()\n",
    "    t = sys.stdin.readline().strip()\n",
    "    s_dict = collections.Counter(s)\n",
    "    t_dict = collections.Counter(t)\n",
    "    t_dict.subtract(s_dict)\n",
    "    print(t_dict.most_common(1)[0][0])\n",
    "main()"
   ]
  },
  {
   "cell_type": "code",
   "execution_count": null,
   "metadata": {},
   "outputs": [],
   "source": []
  }
 ],
 "metadata": {
  "kernelspec": {
   "display_name": "Python 3",
   "language": "python",
   "name": "python3"
  },
  "language_info": {
   "codemirror_mode": {
    "name": "ipython",
    "version": 3
   },
   "file_extension": ".py",
   "mimetype": "text/x-python",
   "name": "python",
   "nbconvert_exporter": "python",
   "pygments_lexer": "ipython3",
   "version": "3.9.0"
  }
 },
 "nbformat": 4,
 "nbformat_minor": 4
}
