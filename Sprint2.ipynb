{
 "cells": [
  {
   "cell_type": "markdown",
   "metadata": {},
   "source": [
    "# Задача2"
   ]
  },
  {
   "cell_type": "markdown",
   "metadata": {},
   "source": [
    "Напечать односавязный список"
   ]
  },
  {
   "cell_type": "code",
   "execution_count": null,
   "metadata": {},
   "outputs": [],
   "source": [
    "import sys\n",
    "class Node:  \n",
    "    def __init__(self, value, next_item=None):  \n",
    "        self.value = value  \n",
    "        self.next_item = next_item\n",
    "\n",
    "def solution(node):\n",
    "    sys.setrecursionlimit(6000)\n",
    "    if (node is not None):\n",
    "        print(node.value)\n",
    "        solution(node.next_item)\n",
    "def solution2(node):\n",
    "    while node:\n",
    "        print(node.value)\n",
    "        node = node.next_item\n",
    "        \n",
    "n1 = Node(\"value1\")\n",
    "n2 = Node(\"value2\", n1)\n",
    "n3 = Node(\"value3\", n2)\n",
    "solution2(n2)\n",
    "print(\"\")\n",
    "solution(n2)"
   ]
  },
  {
   "cell_type": "markdown",
   "metadata": {},
   "source": [
    "# Задача3"
   ]
  },
  {
   "cell_type": "markdown",
   "metadata": {},
   "source": [
    "Удалить элемент из связанного списка"
   ]
  },
  {
   "cell_type": "code",
   "execution_count": null,
   "metadata": {},
   "outputs": [],
   "source": [
    "class Node:  \n",
    "    def __init__(self, value, next_item=None):  \n",
    "        self.value = value  \n",
    "        self.next_item = next_item\n",
    "        \n",
    "def get_node(node, idx):\n",
    "    while idx > 0:\n",
    "        node = node.next_item\n",
    "        idx -= 1\n",
    "    return node\n",
    "    \n",
    "    \n",
    "def solution(node, idx):\n",
    "    if idx == 0:\n",
    "        return node.next_item\n",
    "    previous_node = get_node(node, idx - 1)\n",
    "    current_node = previous_node.next_item\n",
    "    previous_node.next_item = current_node.next_item\n",
    "    return node\n",
    "\n",
    "def print_node(node):\n",
    "    while node:\n",
    "        print(node.value)\n",
    "        node = node.next_item\n",
    "        \n",
    "n1 = Node(\"value1\")\n",
    "n2 = Node(\"value2\", n1)\n",
    "n3 = Node(\"value3\", n2)\n",
    "\n",
    "head = solution(n3, 2)\n",
    "print_node(head)"
   ]
  },
  {
   "cell_type": "markdown",
   "metadata": {},
   "source": [
    "# Задача 4"
   ]
  },
  {
   "cell_type": "markdown",
   "metadata": {},
   "source": [
    "По значению вернуть индекс элемента в связанном списке"
   ]
  },
  {
   "cell_type": "code",
   "execution_count": null,
   "metadata": {},
   "outputs": [],
   "source": [
    "class Node:  \n",
    "    def __init__(self, value, next_item=None):  \n",
    "        self.value = value  \n",
    "        self.next_item = next_item\n",
    "        \n",
    "def solution(node, elem):\n",
    "    idx = 0\n",
    "    while node:\n",
    "        if node.value == elem:\n",
    "            return idx\n",
    "        else:\n",
    "            node = node.next_item\n",
    "            idx += 1\n",
    "    return -1\n",
    "\n",
    "n1 = Node(\"value1\")\n",
    "n2 = Node(\"value2\", n1)\n",
    "n3 = Node(\"value3\", n2)\n",
    "\n",
    "print(solution(n3, \"value46\"))"
   ]
  },
  {
   "cell_type": "markdown",
   "metadata": {},
   "source": [
    "# Задача 5"
   ]
  },
  {
   "cell_type": "code",
   "execution_count": 11,
   "metadata": {},
   "outputs": [
    {
     "name": "stdout",
     "output_type": "stream",
     "text": [
      "head value1 value2 value3\n",
      "head value3 value2 value1\n"
     ]
    }
   ],
   "source": [
    "class DoubleConnectedNode:  \n",
    "    def __init__(self, value, next=None, prev=None):  \n",
    "        self.value = value  \n",
    "        self.next = next  \n",
    "        self.prev = prev\n",
    "        \n",
    "def solution(node):\n",
    "    while node.next:\n",
    "        node.prev, node.next = node.next, node.prev\n",
    "        node = node.prev\n",
    "    node.prev, node.next = node.next, node.prev\n",
    "    return node\n",
    "        \n",
    "def print_node(node):\n",
    "    while node:\n",
    "        print(node.value)\n",
    "        node = node.next\n",
    "    return node\n",
    "        \n",
    "n1 = DoubleConnectedNode(\"value1\", None, None)\n",
    "n3 = DoubleConnectedNode(\"value3\", None, None)\n",
    "n2 = DoubleConnectedNode(\"value2\", n3, n1)\n",
    "n3.prev = n2\n",
    "n1.next = n2\n",
    "\n",
    "print(\"head\", n1.value, n1.next.value, n1.next.next.value)\n",
    "head = solution(n1)\n",
    "print(\"head\", head.value, head.next.value, head.next.next.value)"
   ]
  },
  {
   "cell_type": "markdown",
   "metadata": {},
   "source": [
    "# Задача 1"
   ]
  },
  {
   "cell_type": "markdown",
   "metadata": {},
   "source": [
    "Транспонировать матрицу"
   ]
  },
  {
   "cell_type": "code",
   "execution_count": null,
   "metadata": {},
   "outputs": [],
   "source": [
    "import sys\n",
    "\n",
    "from io import StringIO \n",
    "doc = '''9\n",
    "5\n",
    "-7 -1 0 -4 -9\n",
    "5 -1 2 2 9\n",
    "3 1 -8 -1 -7\n",
    "9 0 8 -8 -1\n",
    "2 4 5 2 8\n",
    "-7 10 0 -4 -8\n",
    "-3 10 -7 10 3\n",
    "1 6 -7 -5 9\n",
    "-1 9 9 1 9'''\n",
    "\n",
    "sys.stdin = StringIO(doc)\n",
    "\n",
    "def main():\n",
    "    n = int(sys.stdin.readline().strip())\n",
    "    m = int(sys.stdin.readline().strip())\n",
    "    input_arr = ['0'] * n\n",
    "    output_arr = [['0'] * n for i in range(m)]\n",
    "    for i in range(n):\n",
    "        input_arr[i] = sys.stdin.readline().strip().split()\n",
    "    for i in range(m):\n",
    "        for j in range(n):\n",
    "            if i == j:\n",
    "                output_arr[i][j] = input_arr[i][j]\n",
    "            else:\n",
    "                output_arr[i][j] = input_arr[j][i]\n",
    "    for i in range(m):\n",
    "        print(\" \".join(output_arr[i]))\n",
    "main()"
   ]
  },
  {
   "cell_type": "markdown",
   "metadata": {},
   "source": [
    "# Задача 6"
   ]
  },
  {
   "cell_type": "markdown",
   "metadata": {},
   "source": [
    "Нужно реализовать класс StackMax, который поддерживает операцию определения максимума среди всех элементов в стеке. Класс также должен поддерживать все операции, реализованные в классе Stack, из урока. При этом в классе StackMax может быть реализовано не более трёх методов.\n",
    "\n",
    "Стек может содержать только данные типов, поддерживающих операцию сравнения. Иначе операция поиска максимума будет некорректной."
   ]
  },
  {
   "cell_type": "code",
   "execution_count": null,
   "metadata": {},
   "outputs": [],
   "source": [
    "import sys\n",
    "class StackMax:\n",
    "    def __init__(self):\n",
    "        self.items = []\n",
    "    \n",
    "    def push(self, item):\n",
    "        return self.items.append(int(item))\n",
    "    \n",
    "    def pop(self):\n",
    "        if len(self.items) == 0:\n",
    "            return \"error\"\n",
    "        return self.items.pop()\n",
    "    \n",
    "    def get_max(self):\n",
    "        if len(self.items) == 0:\n",
    "            return \"None\"\n",
    "        max_value = self.items[0]\n",
    "        for i in self.items:\n",
    "            if i > max_value:\n",
    "                max_value = i\n",
    "        return max_value\n",
    "\n",
    "from io import StringIO \n",
    "doc = '''8\n",
    "get_max\n",
    "push 7\n",
    "pop\n",
    "push -2\n",
    "push -1\n",
    "pop\n",
    "get_max\n",
    "get_max'''\n",
    "\n",
    "sys.stdin = StringIO(doc)\n",
    "\n",
    "def main():\n",
    "    n = int(sys.stdin.readline().strip())\n",
    "    stack = StackMax()\n",
    "    for i in range(n):\n",
    "        command = sys.stdin.readline().strip().split(\" \")\n",
    "        if command[0] == \"pop\":\n",
    "            p = stack.pop()\n",
    "            if p == \"error\":\n",
    "                print(p)\n",
    "        elif command[0] == \"push\":\n",
    "            stack.push(command[1])\n",
    "        elif command[0] == \"get_max\":\n",
    "            print(stack.get_max())\n",
    "        else:\n",
    "            continue\n",
    "main()   "
   ]
  },
  {
   "cell_type": "markdown",
   "metadata": {},
   "source": [
    "# Задача 7"
   ]
  },
  {
   "cell_type": "markdown",
   "metadata": {},
   "source": [
    "Реализуйте класс StackMaxEffective, поддерживающий операцию определения максимума среди элементов в стеке. Сложность операции должна быть O(1). Для пустого стека операция должна возвращать None. При этом push и pop также должны выполняться за константное время."
   ]
  },
  {
   "cell_type": "code",
   "execution_count": null,
   "metadata": {},
   "outputs": [],
   "source": [
    "import sys\n",
    "\n",
    "class InnerStack:\n",
    "    def __init__(self):\n",
    "        self.maximums = []\n",
    "    \n",
    "    def push(self, item):\n",
    "        return self.maximums.append(item)\n",
    "    \n",
    "    def pop(self):\n",
    "        return self.maximums.pop()\n",
    "    \n",
    "    def size(self):\n",
    "        return len(self.maximums)\n",
    "\n",
    "class StackMaxEffective:\n",
    "    def __init__(self):\n",
    "        self.items = []\n",
    "        self.stack = InnerStack() \n",
    "    \n",
    "    def push(self, item):\n",
    "        item = int(item)\n",
    "        if len(self.items) == 0 or item >= self.max:\n",
    "            self.max = item\n",
    "            self.stack.push(item)\n",
    "        return self.items.append(item)\n",
    "    \n",
    "    def pop(self):\n",
    "        if len(self.items) == 0:\n",
    "            return \"error\"\n",
    "        else:\n",
    "            item = self.items.pop()\n",
    "            if self.max == item:\n",
    "                self.stack.pop()\n",
    "                if self.stack.size() == 0:\n",
    "                    self.max = None \n",
    "                else:\n",
    "                    max_item = self.stack.pop()\n",
    "                    self.max = max_item\n",
    "                    self.stack.push(max_item)\n",
    "    \n",
    "    def get_max(self):\n",
    "        if len(self.items) == 0:\n",
    "            return \"None\"\n",
    "        return self.max\n",
    "\n",
    "from io import StringIO \n",
    "doc = '''10\n",
    "pop\n",
    "get_max\n",
    "push 4 \n",
    "pop\n",
    "pop\n",
    "pop\n",
    "get_max\n",
    "'''\n",
    "\n",
    "sys.stdin = StringIO(doc)\n",
    "\n",
    "def main():\n",
    "    n = int(sys.stdin.readline().strip())\n",
    "    stack = StackMaxEffective()\n",
    "    for i in range(n):\n",
    "        command = sys.stdin.readline().strip().split(\" \")\n",
    "        if command[0] == \"pop\":\n",
    "            p = stack.pop()\n",
    "            if p == \"error\":\n",
    "                print(p)\n",
    "        elif command[0] == \"push\":\n",
    "            stack.push(command[1])\n",
    "        elif command[0] == \"get_max\":\n",
    "            print(stack.get_max())\n",
    "        else:\n",
    "            continue\n",
    "main() "
   ]
  },
  {
   "cell_type": "markdown",
   "metadata": {},
   "source": [
    "# Задача 8"
   ]
  },
  {
   "cell_type": "code",
   "execution_count": null,
   "metadata": {},
   "outputs": [],
   "source": [
    "import sys\n",
    "\n",
    "class Stack:\n",
    "    def __init__(self):\n",
    "        self.items = []\n",
    "    \n",
    "    def push(self, item):\n",
    "        return self.items.append(item)\n",
    "    \n",
    "    def pop(self):\n",
    "        return self.items.pop()\n",
    "    \n",
    "    def size(self):\n",
    "        return len(self.items)\n",
    "\n",
    "from io import StringIO \n",
    "doc = '''{}()}'''\n",
    "\n",
    "sys.stdin = StringIO(doc)\n",
    "\n",
    "def main():\n",
    "    sec = sys.stdin.readline().strip()\n",
    "    stack = Stack()\n",
    "    output = \"True\"\n",
    "    for s in sec:\n",
    "        if s == \"(\" or s==\"[\" or s==\"{\":\n",
    "            stack.push(s)\n",
    "        else:\n",
    "            if stack.size() == 0:\n",
    "                output = \"False\"\n",
    "            else:\n",
    "                item = stack.pop()\n",
    "                if item == \"(\" and s!= \")\" or item == \"[\" and s!= \"]\"  or item == \"{\" and s!= \"}\":\n",
    "                    output = \"False\"\n",
    "    if stack.size() != 0:\n",
    "        output = False\n",
    "    print(output)\n",
    "    \n",
    "main() "
   ]
  },
  {
   "cell_type": "markdown",
   "metadata": {},
   "source": [
    "# Задача 9"
   ]
  },
  {
   "cell_type": "markdown",
   "metadata": {},
   "source": [
    "Реализовать очередь"
   ]
  },
  {
   "cell_type": "code",
   "execution_count": null,
   "metadata": {},
   "outputs": [],
   "source": [
    "import sys\n",
    "\n",
    "class MyQueueSized:\n",
    "    def __init__(self, max_size):\n",
    "        self.max_size = max_size\n",
    "        self.cur_size = 0\n",
    "        self.head = 0\n",
    "        self.tail = 0\n",
    "        self.queue = [None] * max_size\n",
    "        \n",
    "    def size(self):\n",
    "        print(self.cur_size)\n",
    "    \n",
    "    def peek(self):\n",
    "        if self.cur_size == 0:\n",
    "            print(\"None\")\n",
    "        else:\n",
    "            print(self.queue[self.head])\n",
    "    \n",
    "    def push(self, item):\n",
    "        if self.cur_size == self.max_size:\n",
    "            print(\"error\")\n",
    "        else:\n",
    "            self.queue[self.tail] = item\n",
    "            self.tail = (self.tail + 1) % self.max_size\n",
    "            self.cur_size += 1\n",
    "        \n",
    "    def pop(self):\n",
    "        if self.cur_size == 0:\n",
    "            print(\"None\")\n",
    "        else:\n",
    "            item = self.queue[self.head]\n",
    "            self.queue[self.head] = None\n",
    "            self.head = (self.head + 1) % self.max_size\n",
    "            self.cur_size -= 1\n",
    "            print(item)\n",
    "        \n",
    "from io import StringIO \n",
    "doc = '''8\n",
    "2\n",
    "peek\n",
    "push 5\n",
    "push 2\n",
    "peek\n",
    "size\n",
    "size\n",
    "push 1\n",
    "size'''\n",
    "\n",
    "sys.stdin = StringIO(doc)\n",
    "\n",
    "def main():\n",
    "    commands = int(sys.stdin.readline().strip())\n",
    "    max_size = int(sys.stdin.readline().strip())\n",
    "    queue = MyQueueSized(max_size)\n",
    "    for i in range(commands):\n",
    "        command, *args = sys.stdin.readline().strip().split(\" \")\n",
    "        getattr(queue, command)(*args)\n",
    "main()"
   ]
  },
  {
   "cell_type": "markdown",
   "metadata": {},
   "source": [
    "# Задача 10"
   ]
  },
  {
   "cell_type": "markdown",
   "metadata": {},
   "source": [
    "очередь со связанным списком"
   ]
  },
  {
   "cell_type": "code",
   "execution_count": null,
   "metadata": {},
   "outputs": [],
   "source": [
    "import sys\n",
    "\n",
    "class Node:  \n",
    "    def __init__(self, value, next_item=None):  \n",
    "        self.value = value  \n",
    "        self.next_item = next_item\n",
    "        \n",
    "class MyQueue:\n",
    "    def __init__(self):\n",
    "        self.linked_list_size = 0\n",
    "        self.linked_list = []\n",
    "        self.head = None\n",
    "        \n",
    "    def size(self):\n",
    "        print(self.linked_list_size)\n",
    "    \n",
    "    def put(self, item):\n",
    "        node = Node(item, None)\n",
    "        if self.linked_list_size == 0:\n",
    "            self.head = node\n",
    "        else:\n",
    "            self.linked_list[-1].next_item = node\n",
    "        self.linked_list.append(node)   \n",
    "        self.linked_list_size += 1\n",
    "        \n",
    "    def get(self):\n",
    "        if self.linked_list_size == 0:\n",
    "            print(\"error\")\n",
    "        else:\n",
    "            node = self.head\n",
    "            self.head = self.head.next_item\n",
    "            self.linked_list_size -= 1\n",
    "            print(node.value)\n",
    "        \n",
    "from io import StringIO \n",
    "doc = '''9\n",
    "get\n",
    "size\n",
    "put 74\n",
    "get\n",
    "size\n",
    "put 90\n",
    "size\n",
    "size\n",
    "size'''\n",
    "\n",
    "sys.stdin = StringIO(doc)\n",
    "\n",
    "def main():\n",
    "    commands = int(sys.stdin.readline().strip())\n",
    "    queue = MyQueue()\n",
    "    for i in range(commands):\n",
    "        command, *args = sys.stdin.readline().strip().split(\" \")\n",
    "        getattr(queue, command)(*args)\n",
    "main()"
   ]
  },
  {
   "cell_type": "markdown",
   "metadata": {},
   "source": [
    "# Задача 11"
   ]
  },
  {
   "cell_type": "markdown",
   "metadata": {},
   "source": [
    "Числа Фибоначи в рекурсии"
   ]
  },
  {
   "cell_type": "code",
   "execution_count": 7,
   "metadata": {},
   "outputs": [
    {
     "name": "stdout",
     "output_type": "stream",
     "text": [
      "45\n",
      "1836311903\n"
     ]
    }
   ],
   "source": [
    "def F(n):\n",
    "    if n < 2: \n",
    "        return 1\n",
    "    else:\n",
    "        f1 = f2 = 1\n",
    "        for i in range(1, n):\n",
    "            f1, f2 = f2, f2 + f1\n",
    "        return f2\n",
    "\n",
    "def main():\n",
    "    n = int(input())\n",
    "    print(F(n))\n",
    "    \n",
    "main()"
   ]
  },
  {
   "cell_type": "markdown",
   "metadata": {},
   "source": [
    "# Задача 12"
   ]
  },
  {
   "cell_type": "markdown",
   "metadata": {},
   "source": [
    "числа Фибоначи по модулю. В первой строке записаны через пробел два целых числа n, 0 ≤ n ≤ 106, и k, 1 ≤ k ≤ 8. Надо вывести последние пару чисел фибоначи"
   ]
  },
  {
   "cell_type": "code",
   "execution_count": 7,
   "metadata": {},
   "outputs": [
    {
     "name": "stdout",
     "output_type": "stream",
     "text": [
      "1000000 8\n",
      "26937501\n"
     ]
    }
   ],
   "source": [
    "def F(n, k):\n",
    "    f1 = f2 = 1\n",
    "    for i in range(n - 2):\n",
    "        f1, f2 = f2, (f2 + f1) % 10**k\n",
    "    return (f2 + f1) % 10**k\n",
    "\n",
    "def main():\n",
    "    n, k = input().split(\" \")\n",
    "    n = int(n)\n",
    "    k = int(k)\n",
    "    if n < 2:\n",
    "        print(1)\n",
    "    else:\n",
    "        print(F(n, k))\n",
    "    \n",
    "main()"
   ]
  },
  {
   "cell_type": "markdown",
   "metadata": {},
   "source": [
    "# Задача Дек"
   ]
  },
  {
   "cell_type": "code",
   "execution_count": 70,
   "metadata": {},
   "outputs": [
    {
     "name": "stdout",
     "output_type": "stream",
     "text": [
      "-201\n",
      "959\n"
     ]
    }
   ],
   "source": [
    "import sys\n",
    "\n",
    "# посылка 45700081\n",
    "\n",
    "\"\"\"\n",
    "Обоснование решения:\n",
    "\n",
    "-- ПРИНЦИП РАБОТЫ --\n",
    "Необходимо реализовать структуру дек.\n",
    "Для реализации я использовала подход для очереди на кольцевом буфере, модефецировав его для работы на обоих концах.\n",
    "В алгоритме используется массив постоянной длины на основании входного значечения этой длины и не успользуется связный список.\n",
    "\n",
    "--ДОКАЗАТЕЛЬСВО КОРРЕКТНОСТИ\n",
    "На вход подается кол-во команд, deque capacity и сами команды.\n",
    "Также в деке реализовано 4 метода, два на добавлениеи и два на извлечение элементов из дека.\n",
    "При создании дека я ставлю его хвост на элемент с индексом 0, а голову на -1.\n",
    "Это позволяет при первых вызовах push_forward and push_back не перетереть элементы.\n",
    "Параметры head, tail - всегда указывают на индекс, в который нужно будет записать элементы при выхове соотвествующих команд.\n",
    "\n",
    "Далее, если кол-во элементов в доке < изначально заявленному размеру, то я добавляю элемен и беру следущий индекс в случае с хвостом\n",
    "и предыдущий элемент - в случае с головой.\n",
    "\n",
    "Прим. В случае с головой, следующий элемент рассчитывается self.head = (self.head - 1) % self.max_size - self.max_size, чтобы\n",
    "учесть что мы работаем с массивом в обратном порядке и индексы имею отрицательные значения.\n",
    "\n",
    "При операциях pop в случае хвоста берется предыдущий элемент (поскольку tail указывает на индекс элемента, который будет вставлен\n",
    "и индекс следующего элемента в случае с головой по той же причине. Их значения обнуляются.\n",
    "\n",
    "-- ВРЕМЕННАЯ СЛОЖНОСТЬ --\n",
    "Все операции добавления значений в очередь и извлечения из нее занимают O(1), поскольку при каждой из них\n",
    "я уже знаю индекс элемента массива, с которым произвожу данное действие.\n",
    "\n",
    "-- ПРОСТРАНСТВЕННАЯ СЛОЖНОСТЬ --\n",
    "В памяти необходимо хранить массив длины m - входной параметр для определения максимального кол-ва элементов в доке.\n",
    "Если мы заходим в дек добавить элементов больше данного кол-ва, то будет выведена ошибка.\n",
    "\"\"\"\n",
    "\n",
    "from io import StringIO \n",
    "doc = '''4\n",
    "6\n",
    "push_front -201\n",
    "push_back 959\n",
    "pop_front\n",
    "pop_back'''\n",
    "\n",
    "sys.stdin = StringIO(doc)\n",
    "\n",
    "\n",
    "class Deque:\n",
    "    def __init__(self, n):\n",
    "        self.deque = [None] * n\n",
    "        self.max_size = n\n",
    "        self.size = 0\n",
    "        self.head = -1\n",
    "        self.tail = 0\n",
    "    \n",
    "    def push_front(self, item):\n",
    "        if self.size < self.max_size:\n",
    "            self.deque[self.tail] = item\n",
    "            self.tail = (self.tail + 1) % self.max_size\n",
    "            self.size += 1\n",
    "        else:\n",
    "            print(\"error\")\n",
    "            \n",
    "    \n",
    "    def push_back(self, item):\n",
    "        if self.size < self.max_size:\n",
    "            self.deque[self.head] = item\n",
    "            self.head = (self.head - 1) % self.max_size - self.max_size\n",
    "            self.size += 1\n",
    "        else:\n",
    "            print(\"error\")\n",
    "    \n",
    "    def pop_front(self):\n",
    "        if self.size > 0:\n",
    "            tail = (self.tail - 1) % self.max_size\n",
    "            print(self.deque[tail])\n",
    "            self.deque[tail] = None\n",
    "            self.tail = tail\n",
    "            self.size -= 1\n",
    "        else:\n",
    "            print(\"error\")\n",
    "            \n",
    "    def pop_back(self):\n",
    "        if self.size > 0:\n",
    "            head = (self.head + 1) % self.max_size\n",
    "            print(self.deque[head])\n",
    "            self.deque[head] = None\n",
    "            self.head = head\n",
    "            self.size -= 1\n",
    "        else:\n",
    "            print(\"error\")\n",
    "    \n",
    "def main():\n",
    "    commands_number = int(sys.stdin.readline().strip())\n",
    "    max_size = int(sys.stdin.readline().strip())\n",
    "    deque = Deque(max_size)\n",
    "    for i in range(commands_number):\n",
    "        command, *args = sys.stdin.readline().strip().split(\" \")\n",
    "        getattr(deque, command)(*args)\n",
    "\n",
    "main()"
   ]
  },
  {
   "cell_type": "markdown",
   "metadata": {},
   "source": [
    "# Обратная польская нотация"
   ]
  },
  {
   "cell_type": "code",
   "execution_count": 45,
   "metadata": {},
   "outputs": [
    {
     "name": "stdout",
     "output_type": "stream",
     "text": [
      "9\n"
     ]
    }
   ],
   "source": [
    "import sys\n",
    "import operator\n",
    "\n",
    "#номер посылки: 45711447\n",
    "\n",
    "\"\"\"\n",
    "Обоснование решения:\n",
    "\n",
    "-- ПРИНЦИП РАБОТЫ --\n",
    "Задание связано с реализацией алгоритма для обработки математического выражения, записанного в обратной польской нотации, \n",
    "что означает, что операнды стоят раньше операций. На вход подается выражение, содержащее операнды и операции в заявленном\n",
    "порядке.\n",
    "\n",
    "В задаче используется структура стек, которая хранит в себе значения все операндов в заявленном порядке и используется\n",
    "для вычисления арифметической подзадачи. Также результат работы операции над операндами добавляется наверх стека и \n",
    "может быть использован как операнд для следующих арифметических операций.\n",
    "\n",
    "--ДОКАЗАТЕЛЬСВО КОРРЕКТНОСТИ\n",
    "\n",
    "Читаю каждый символ из выражения. (Здесь я делаю допущение, что считанное выражение являет правильным, и оно содержит\n",
    "только операции \"+,-,/,*\", а также числа, которые являются или могут быть приведены к целочисленным)\n",
    "\n",
    "\n",
    "Прочитав выражение, необходимо его распарсить на операции и операнды, что делается следующим образом.\n",
    "\n",
    "Если символ НЕ является математической операцией, то я кладу его в стек\n",
    "Если символ является одной из математических операций, то я беру последние два значения из стека,\n",
    "причем сначала второй операнд, а затем первый, и применяю считанную операцию к ним.\n",
    "\n",
    "Например, \n",
    "для выражение a, b, * , будет справедливо:\n",
    "b = stack.pop()\n",
    "a = stack.pop()\n",
    "result = a *  b -> кладется в стек.\n",
    "\n",
    "Прочитав все символы и применим таким образом описанный алгоритм, наверху стека получается результат последней арифметической\n",
    "операции, который и является значение всего выражения. Если же какие-то операнды не были истользованы, то они останутся в стеке ниже.\n",
    "\n",
    "-- ВРЕМЕННАЯ СЛОЖНОСТЬ --\n",
    "Добавление в стек стоит O(1)\n",
    "Извлечение из стека также стоит O(1)\n",
    "Однако, нам надо пройтись по всем элементам, и если выражение имеет n символов,\n",
    "то общая сложность будет O(n)\n",
    "\n",
    "-- ПРОСТРАНСТВЕННАЯ СЛОЖНОСТЬ --\n",
    "Мы храним исходный массив длины n, поэтому пространственная сложность будет O(n)\n",
    "Также с стеке при худшем раскладе может хранится k элементов, что равно n - const.\n",
    "Например, для 1 1 1 1 1  1 6 7 * стек хранит 1 1 1 1 1  1 6 7\n",
    "Поэтому пространственная сложность для хранения стека O(n).\n",
    "\"\"\"\n",
    "\n",
    "from io import StringIO \n",
    "doc = '''2 1 + 3 *'''\n",
    "\n",
    "sys.stdin = StringIO(doc)\n",
    "\n",
    "class Stack:\n",
    "    def __init__(self):\n",
    "        self.items = []\n",
    "\n",
    "    def push(self, item):\n",
    "        self.items.append(item)\n",
    "\n",
    "    def pop(self):\n",
    "        return self.items.pop()\n",
    "        \n",
    "operations = { \"+\": operator.add, \"-\": operator.sub, \"/\": operator.floordiv, \"*\": operator.mul } \n",
    "\n",
    "def main():\n",
    "    expression = sys.stdin.readline().strip().split(\" \")\n",
    "    operands = Stack()\n",
    "    for symbol in expression:\n",
    "        if symbol in operations.keys():\n",
    "            b = operands.pop()\n",
    "            a = operands.pop()\n",
    "            result = operations[symbol](a, b)\n",
    "            operands.push(result)\n",
    "        else:\n",
    "            operands.push(int(symbol))\n",
    "    print(operands.pop())\n",
    "main()"
   ]
  },
  {
   "cell_type": "code",
   "execution_count": null,
   "metadata": {},
   "outputs": [],
   "source": []
  }
 ],
 "metadata": {
  "kernelspec": {
   "display_name": "Python 3",
   "language": "python",
   "name": "python3"
  },
  "language_info": {
   "codemirror_mode": {
    "name": "ipython",
    "version": 3
   },
   "file_extension": ".py",
   "mimetype": "text/x-python",
   "name": "python",
   "nbconvert_exporter": "python",
   "pygments_lexer": "ipython3",
   "version": "3.9.0"
  }
 },
 "nbformat": 4,
 "nbformat_minor": 4
}
