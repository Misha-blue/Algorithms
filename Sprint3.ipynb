{
 "cells": [
  {
   "cell_type": "markdown",
   "metadata": {},
   "source": [
    "# Задача 1"
   ]
  },
  {
   "cell_type": "markdown",
   "metadata": {},
   "source": [
    "генератор скобочных последовательностей заданной длины. Афавит \"(\",\")\""
   ]
  },
  {
   "cell_type": "code",
   "execution_count": null,
   "metadata": {},
   "outputs": [],
   "source": [
    "def generate(n, prefix):\n",
    "    if n == 0:\n",
    "        print(prefix)\n",
    "    else:\n",
    "        generate(n-1, \"(\" + prefix + \")\")\n",
    "        generate(n-1, prefix + \"()\")\n",
    "        generate(n-1, \"()\" + prefix)\n",
    "        \n",
    "def main():\n",
    "    n = int(input())\n",
    "    generate(n, \"\")\n",
    "\n",
    "main()"
   ]
  },
  {
   "cell_type": "code",
   "execution_count": null,
   "metadata": {},
   "outputs": [],
   "source": [
    "def gen_binary(n, prefix):\n",
    "    if n == 0:\n",
    "        print(prefix)\n",
    "    else:\n",
    "        gen_binary(n - 1, prefix + '0')\n",
    "        gen_binary(n - 1, prefix + '1')  \n",
    "        \n",
    "gen_binary(3, \"\")"
   ]
  },
  {
   "cell_type": "markdown",
   "metadata": {},
   "source": [
    "# B. Комбинации"
   ]
  },
  {
   "cell_type": "markdown",
   "metadata": {},
   "source": [
    "На клавиатуре старых мобильных телефонов каждой цифре соответствовало несколько букв. Примерно так:\n",
    "\n",
    "2:'abc',\n",
    "3:'def',\n",
    "4:'ghi',\n",
    "5:'jkl',\n",
    "6:'mno',\n",
    "7:'pqrs',\n",
    "8:'tuv',\n",
    "9:'wxyz'\n",
    "\n",
    "Вам известно в каком порядке были нажаты кнопки телефона, без учета повторов. Напечатайте все комбинации букв, которые можно набрать такой последовательностью нажатий.\n",
    "\n",
    "Формат ввода\n",
    "На вход подается строка, состоящая из цифр 2-9 включительно. Длина строки не превосходит 10 символов.\n",
    "\n",
    "Формат вывода\n",
    "Выведите все возможные комбинации букв через пробел."
   ]
  },
  {
   "cell_type": "code",
   "execution_count": null,
   "metadata": {},
   "outputs": [],
   "source": [
    "import sys\n",
    "\n",
    "\n",
    "from io import StringIO \n",
    "doc = '''9'''\n",
    "\n",
    "sys.stdin = StringIO(doc)\n",
    "\n",
    "def generate(combination, prefix):\n",
    "    alphabet = {\"2\":\"abc\", \"3\":\"def\", \"4\":\"ghi\", \"5\":\"jkl\", \"6\":\"mno\", \"7\":\"pqrs\", \"8\":\"tuv\", \"9\":\"wxyz\"}\n",
    "    if len(combination) == 0:\n",
    "        print(prefix, end=\" \")\n",
    "    else:\n",
    "        letters = alphabet[combination[0]]\n",
    "        for letter in letters:\n",
    "            generate(combination[1::], prefix + letter)\n",
    "        \n",
    "def main():\n",
    "\n",
    "    combination = sys.stdin.readline().strip()\n",
    "    generate(combination, \"\")\n",
    "\n",
    "main()"
   ]
  },
  {
   "cell_type": "markdown",
   "metadata": {},
   "source": [
    "# J. Пузырёк"
   ]
  },
  {
   "cell_type": "code",
   "execution_count": null,
   "metadata": {},
   "outputs": [],
   "source": [
    "import sys\n",
    "\n",
    "\n",
    "from io import StringIO \n",
    "doc = '''5\n",
    "1 1 2 3 4'''\n",
    "\n",
    "sys.stdin = StringIO(doc)\n",
    "\n",
    "def main():\n",
    "    initial_n = int(sys.stdin.readline().strip())\n",
    "    array = list(map(int, sys.stdin.readline().strip().split()))\n",
    "    n = initial_n\n",
    "    while n > 1:\n",
    "        shouldPrint = False\n",
    "        for i in range(n - 1):\n",
    "            if array[i] > array[i + 1]:\n",
    "                array[i + 1], array[i] = array[i], array[i + 1]\n",
    "                shouldPrint = True\n",
    "        if shouldPrint:\n",
    "            print(\" \".join(map(str, array)))\n",
    "        else:\n",
    "            if n == initial_n:\n",
    "                print(\" \".join(map(str, array)))\n",
    "            break\n",
    "        n -= 1\n",
    "            \n",
    "main()"
   ]
  },
  {
   "cell_type": "markdown",
   "metadata": {},
   "source": [
    "# L. Два велосипеда"
   ]
  },
  {
   "cell_type": "markdown",
   "metadata": {},
   "source": [
    "Вася решил накопить денег на два одинаковых велосипеда — себе и сестре. У Васи есть копилка, в которую каждый день он может добавлять деньги (если, конечно, у него есть такая финансовая возможность). В процессе накопления Вася не вынимает деньги из копилки.\n",
    "\n",
    "У вас есть информация о росте Васиных накоплений — сколько у Васи в копилке было денег в каждый из дней.\n",
    "\n",
    "Ваша задача — по заданной стоимости велосипеда определить\n",
    "\n",
    "первый день, в которой Вася смог бы купить один велосипед,\n",
    "и первый день, в который Вася смог бы купить два велосипеда.\n",
    "Подсказка: решение должно работать за O(log n).\n",
    "\n",
    "Формат ввода\n",
    "В первой строке дано число дней n, по которым велись наблюдения за Васиными накоплениями. 1 ≤ n ≤ 106.\n",
    "\n",
    "В следующей строке записаны n целых неотрицательных чисел. Числа идут в порядке неубывания. Каждое из чисел не превосходит 106.\n",
    "\n",
    "В третьей строке записано целое положительное число s — стоимость велосипеда. Это число не превосходит 106."
   ]
  },
  {
   "cell_type": "code",
   "execution_count": 15,
   "metadata": {},
   "outputs": [
    {
     "name": "stdout",
     "output_type": "stream",
     "text": [
      "1 2\n"
     ]
    }
   ],
   "source": [
    "import sys\n",
    "\n",
    "\n",
    "from io import StringIO \n",
    "doc = '''6\n",
    "1 2 4 4 6 8\n",
    "1'''\n",
    "\n",
    "sys.stdin = StringIO(doc)\n",
    "\n",
    "def search(array, left, right, n):\n",
    "    if right <= left:\n",
    "        return -1\n",
    "    mid = (right + left) // 2\n",
    "#     print(left, right, mid, array[mid], n)\n",
    "    if right - left <= 2:\n",
    "        if array[left] >= n:\n",
    "            return left + 1\n",
    "        elif array[right - 1] >= n:\n",
    "            return right\n",
    "        else:\n",
    "            return -1\n",
    "    if array[mid] < n:\n",
    "        return search(array, mid + 1, right, n)\n",
    "    else:\n",
    "        return search(array, left, mid + 1, n)\n",
    "\n",
    "def main():\n",
    "    n = int(sys.stdin.readline().strip())\n",
    "    array = list(map(int, sys.stdin.readline().strip().split()))\n",
    "    s = int(sys.stdin.readline().strip())\n",
    "    dayForVasya = search(array, 0, n, s)\n",
    "    dayForSister = search(array, 0, n, 2*s)\n",
    "    print(dayForVasya, dayForSister)\n",
    "main()"
   ]
  },
  {
   "cell_type": "markdown",
   "metadata": {},
   "source": [
    "# H. Большое число"
   ]
  },
  {
   "cell_type": "markdown",
   "metadata": {},
   "source": [
    "В первой строке записано n — количество чисел. Оно не превосходит 100.\n",
    "Во второй строке через пробел записаны n неотрицательных чисел, каждое из которых не превосходит 1000.\n",
    "\n",
    "Формат вывода\n",
    "Нужно вывести самое большое число, которое можно составить из данных чисел."
   ]
  },
  {
   "cell_type": "code",
   "execution_count": 26,
   "metadata": {},
   "outputs": [
    {
     "name": "stdout",
     "output_type": "stream",
     "text": [
      "54210510510\n"
     ]
    }
   ],
   "source": [
    "import sys\n",
    "\n",
    "\n",
    "from io import StringIO \n",
    "doc = '''5\n",
    "2 4 5 105 10510'''\n",
    "\n",
    "sys.stdin = StringIO(doc)\n",
    "\n",
    "def less(left, right):\n",
    "    if int(left + right) >= int(right + left):\n",
    "        return True\n",
    "    else:\n",
    "        return False\n",
    "\n",
    "def sort_by_nominal(array, n, key):\n",
    "    for i in range(1, n):\n",
    "        item_to_insert = array[i]\n",
    "        j = i\n",
    "        while j > 0 and key(item_to_insert, array[j - 1]):\n",
    "            array[j] = array[j-1]\n",
    "            j -= 1\n",
    "        array[j] = item_to_insert\n",
    "    return array\n",
    "                \n",
    "\n",
    "def main():\n",
    "    n = int(sys.stdin.readline().strip())\n",
    "    array = sys.stdin.readline().strip().split(\" \")\n",
    "    array = sort_by_nominal(array, n, less)\n",
    "    print(\"\".join(array))\n",
    "    \n",
    "main()"
   ]
  },
  {
   "cell_type": "markdown",
   "metadata": {},
   "source": [
    "сортировка вставками"
   ]
  },
  {
   "cell_type": "code",
   "execution_count": 3,
   "metadata": {},
   "outputs": [],
   "source": [
    "digit_lengths = [4, 4, 3, 3, 6, 4, 5, 4, 6, 6] \n",
    "\n",
    "def card_strength(card): # ключ сравнения\n",
    "    return digit_lengths[card]\n",
    "\n",
    "# воспользуемся уже знакомой сортировкой вставками\n",
    "def insertion_sort_by_key(array, key):\n",
    "    for i in range(1, len(array)):\n",
    "        item_to_insert = array[i]\n",
    "        j = i\n",
    "        while j > 0 and key(item_to_insert) < key(array[j-1]):\n",
    "            array[j] = array[j-1]\n",
    "            j -= 1\n",
    "        array[j] = item_to_insert\n",
    "\n",
    "cards = [3, 7, 9, 2, 3]\n",
    "insertion_sort_by_key(cards, card_strength) "
   ]
  },
  {
   "cell_type": "code",
   "execution_count": null,
   "metadata": {},
   "outputs": [],
   "source": []
  }
 ],
 "metadata": {
  "kernelspec": {
   "display_name": "Python 3",
   "language": "python",
   "name": "python3"
  },
  "language_info": {
   "codemirror_mode": {
    "name": "ipython",
    "version": 3
   },
   "file_extension": ".py",
   "mimetype": "text/x-python",
   "name": "python",
   "nbconvert_exporter": "python",
   "pygments_lexer": "ipython3",
   "version": "3.9.0"
  }
 },
 "nbformat": 4,
 "nbformat_minor": 4
}
